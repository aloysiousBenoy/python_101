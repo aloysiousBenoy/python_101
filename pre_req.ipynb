{
 "cells": [
  {
   "cell_type": "markdown",
   "metadata": {},
   "source": [
    "# Before we start\n",
    "Setting up your local dev environment is a very important step to beginnig your journey using python.  \n",
    "Go through the following, you may choose any - anaconda, pip or online IDE.\n",
    "\n",
    "If you have any diffuculty with the installation process, you may seek help via the [Issues tab](https://github.com/aloysiousBenoy/python_101/issues) within github. Create a new issue explaining the problem you faced.\n",
    "\n",
    "## Local setup (Anaconda) \n",
    "For the purpose of this session, I will be using Anaconda, a very useful tool for managing your python related modules and such.  \n",
    "Anaconda will help you install all the necessary tools such as ipython and jupyter.\n",
    "\n",
    "Although installing anaconda is not necessary I recommend doing so.\n",
    "\n",
    "1. Installing on linux [Official guide](https://docs.anaconda.com/anaconda/install/linux/)\n",
    "2. Installing on windows [Official guide](https://docs.anaconda.com/anaconda/install/windows/)\n",
    "3. Installing on macOS [Official guide](https://docs.anaconda.com/anaconda/install/mac-os/)\n",
    "\n",
    "\n",
    "## Local Setup (python and pip)\n",
    "Another method to setup your environment is to use the vanilla python installer and [pip](https://www.w3schools.com/python/python_pip.asp)\n",
    "\n",
    "1. Installing python - [Guide](https://realpython.com/installing-python/) All platforms\n",
    "\n",
    "2. Installing pip - [Official documentation](https://pip.pypa.io/en/stable/installation/) : All platforms\n",
    "\n",
    "## Python Online \n",
    "If you are unable to setup your local environment or if you prefer the convenience of using a ready to user online platform, you have that option too. There are a number of services, you can choose any. \n",
    "\n",
    "I have listed a few here:\n",
    "1. [Google Co-Laboratory ](https://colab.research.google.com/) [recommended]: Free service provided by google. Work with ipython notebooks online\n",
    "2. [repl.it](repl.it) : A browser based IDE that you can use to work in any language. \n",
    "3. [online-python.com](https://www.online-python.com/) : Free python IDE online"
   ]
  }
 ],
 "metadata": {
  "kernelspec": {
   "display_name": "Python 3 (ipykernel)",
   "language": "python",
   "name": "python3"
  },
  "language_info": {
   "codemirror_mode": {
    "name": "ipython",
    "version": 3
   },
   "file_extension": ".py",
   "mimetype": "text/x-python",
   "name": "python",
   "nbconvert_exporter": "python",
   "pygments_lexer": "ipython3",
   "version": "3.9.7"
  }
 },
 "nbformat": 4,
 "nbformat_minor": 2
}
