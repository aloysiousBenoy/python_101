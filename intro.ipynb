{
 "cells": [
  {
   "cell_type": "markdown",
   "metadata": {},
   "source": [
    "<img src=\"https://www.python.org/static/community_logos/python-logo-master-v3-TM-flattened.png\" align=\"center\"></img>\n",
    "\n",
    "# Python, the language of the serpents. 🐍🐍\n",
    "\n",
    "For the attention of hodophiles, no, you won't be able to talk to snakes. This is not a course on parseltongue.\n",
    "\n",
    "<img src = \"./imgs/python.jpg\" width=\"50%\" height=\"50%\"></img>\n",
    "\n",
    "## Icebreaker - About python\n",
    "\n",
    "Python is a popular language created by **Guido van Rossum**.\n",
    "\n",
    "- It is an **interpreted** language, ie executed line by line. (prone to syntax errors)\n",
    "- It uses **dynamic types**. (variables can change the type of data stored)\n",
    "- Has garbage collection ( memory is not handled by programmer )\n",
    "- Python is designed to be highly extensible with modules.\n"
   ]
  },
  {
   "cell_type": "markdown",
   "metadata": {},
   "source": [
    "## Peculiar Syntax, ain't it?\n",
    "\n",
    "Python was designed for readability, and has some similarities to the English language with influence from mathematics. You can just glance through python code like reading a story.\n",
    "\n",
    "Python script is very similar to **pseudocode**.\n",
    "\n",
    "> In computer science, pseudocode is a plain language description of the steps in an algorithm or another system. Pseudocode often uses structural conventions of a normal programming language, but is intended for human reading rather than machine reading [Wiki](https://en.wikipedia.org/wiki/Pseudocode)\n",
    "\n",
    "Python uses **new lines to complete a command**, as opposed to other programming languages which often use semicolons or parentheses.\n",
    "\n",
    "Python relies on **indentation, using whitespace, to define scope**; such as the scope of loops, functions and classes. Other programming languages often use curly-brackets for this purpose.\n"
   ]
  },
  {
   "cell_type": "markdown",
   "metadata": {},
   "source": [
    "## Why python ?\n",
    "\n",
    "- Python works on different platforms (Windows, Mac, Linux, Raspberry Pi, etc).\n",
    "- Python has a simple syntax similar to the English language.\n",
    "- Python has syntax that allows developers to write programs with fewer lines than some other programming languages.\n",
    "- Python runs on an interpreter system, meaning that code can be executed as soon as it is written. This means that prototyping can be very quick.\n",
    "- Python can be treated in a procedural way, an object-oriented way or a functional way.\n"
   ]
  },
  {
   "cell_type": "markdown",
   "metadata": {},
   "source": [
    "### First cry - Hello World!\n",
    "\n",
    "Traditions!!!!\n"
   ]
  },
  {
   "cell_type": "code",
   "execution_count": 1,
   "metadata": {},
   "outputs": [
    {
     "name": "stdout",
     "output_type": "stream",
     "text": [
      "Hello World!\n"
     ]
    }
   ],
   "source": [
    "print(\"Hello World!\")\n"
   ]
  },
  {
   "cell_type": "markdown",
   "metadata": {},
   "source": [
    "print() - A function to output text to terminal / shell/ console  \n",
    "Strings - an array (sequence) of characters. Strings start and end with quotes (single or double)\n"
   ]
  },
  {
   "cell_type": "code",
   "execution_count": 12,
   "metadata": {},
   "outputs": [
    {
     "name": "stdout",
     "output_type": "stream",
     "text": [
      "Python is simple\n",
      "Python is powerful\n",
      "hwllo\n",
      "hello\n"
     ]
    }
   ],
   "source": [
    "print(\"Python is simple\")\n",
    "print(\"Python is powerful\")\n",
    "print('hwllo')\n",
    "print(\"hello\")\n"
   ]
  },
  {
   "cell_type": "markdown",
   "metadata": {},
   "source": [
    "Try this out yourself, write a script to print out your name.\n",
    "\n",
    "#### Bonus content :\n",
    "\n",
    "This snippet does the same thing, but in C.\n",
    "\n",
    "```c\n",
    "#include <stdio.h>\n",
    "\n",
    "void main()\n",
    "{\n",
    "        printf(\"Hello world!\\n\");\n",
    "}\n",
    "```\n",
    "\n",
    "Notice the difference? the use of brackets and semi-colons and the additional things you have to deal with!\n"
   ]
  },
  {
   "cell_type": "markdown",
   "metadata": {},
   "source": [
    "### Executing python - the python shell\n",
    "\n",
    "When it comes to executing python code you have two main options\n",
    "\n",
    "1. The python shell\n",
    "2. Exceute from script (file)\n",
    "\n",
    "The python shell is the simplest way but not necessarily the most useful. The shell allows you to enter and execute a python script line by line.  \n",
    "If you make a mistake, well, start over 🥲🥲.  \n",
    "Executing a script is what we usually do, since entering a large program line-by-line everytime you want to run it is not a very practical thing to do.\n",
    "\n",
    "To get a python shell, open up your terminal and type in\n",
    "\n",
    "```bash\n",
    "python\n",
    "```\n",
    "\n",
    "This should give you something like this:\n",
    "\n",
    "```bash\n",
    "Python 3.10.2 (main, Jan 15 2022, 19:56:27) [GCC 11.1.0] on linux\n",
    "Type \"help\", \"copyright\", \"credits\" or \"license\" for more information.\n",
    ">>>\n",
    "```\n",
    "\n",
    "You can start entering your code here.\n",
    "\n",
    "> If the above command gives you an error, try **python3** instead of **python**\n",
    "> This is because python is sometimes used to denote python2, which is not obsolete\n",
    "\n",
    "But how to exceute a script?  \n",
    "First save your code as a python script. All python scripts should have a '.py' for file type eg: \"hello.py\"\n",
    "If you omit this file extension, the interpreter will not execute the script.\n",
    "\n",
    "Once you have the script open up the terminal and enter the following command with the correct file name:\n",
    "\n",
    "```bash\n",
    "#syntax\n",
    "python file_name.py\n",
    "\n",
    "#eg\n",
    "python hello.py\n",
    "```\n",
    "\n",
    "This should give you some output\n"
   ]
  },
  {
   "cell_type": "markdown",
   "metadata": {},
   "source": [
    "## Variables - store values\n",
    "\n",
    "To perform calculations and manipulations you need to store the operands somewhere. Like in mathematics, or even better, like in a chemistry lab  \n",
    "Suppose you have to mix two reagents together. What do you do? We tranfer the reagents to test tubes or flasks and then mix or shake or heat it.  \n",
    "Similarly in python, to perform operations ( addition, multiplication....) we need operands.\n",
    "Say you need to add two numbers. We store the first number in a variable '**a**' and the second in another called '**b**'. Then we add them together using the '**+**' operator and store the result to a variable '**c**'.\n"
   ]
  },
  {
   "cell_type": "code",
   "execution_count": 19,
   "metadata": {},
   "outputs": [
    {
     "name": "stdout",
     "output_type": "stream",
     "text": [
      "hello 1005\n"
     ]
    }
   ],
   "source": [
    "a = 1000\n",
    "b = 5000\n",
    "c = a + 5\n",
    "string_1 = \"hello\"\n",
    "print(string_1, c)\n"
   ]
  },
  {
   "cell_type": "markdown",
   "metadata": {},
   "source": [
    "'**=**' is also an operator, called assignment operator. It is used to, as the name suggests, assign a value to a variable.\n",
    "\n",
    "Variables can store different types of data.\n",
    "In programming, data type is an important concept.\n",
    "and different types can do different things.\n",
    "\n",
    "Python has the following data types built-in by default, in these categories:\n",
    "\n",
    "- Text Type: str\n",
    "- Numeric Types: int, float, complex\n",
    "- Sequence Types: list, tuple, range\n",
    "- Mapping Type: dict\n",
    "- Set Types: set, frozenset\n",
    "- Boolean Type: bool\n",
    "- Binary Types: bytes, bytearray, memoryview\n",
    "\n",
    "To find the type of data stored in a variable (it's data type) we can use the type() function\n"
   ]
  },
  {
   "cell_type": "code",
   "execution_count": 26,
   "metadata": {},
   "outputs": [
    {
     "name": "stdout",
     "output_type": "stream",
     "text": [
      "1.0\n",
      "<class 'complex'>\n"
     ]
    }
   ],
   "source": [
    "a = 10\n",
    "b = \"hellow\"\n",
    "c = 1j\n",
    "print(c.imag)\n",
    "\n",
    "print(type(c))\n"
   ]
  },
  {
   "cell_type": "markdown",
   "metadata": {},
   "source": [
    "## Operators\n",
    "\n",
    "Operators are used to perform basic operations on variables. These include arithmetic operations, comparing values, checking for equality etc.\n",
    "\n",
    "Python divides the operators in the following groups:\n",
    "\n",
    "- Arithmetic operators\n",
    "- Assignment operators\n",
    "- Comparison operators\n",
    "- Logical operators\n",
    "- Identity operators\n",
    "- Membership operators\n",
    "- Bitwise operators\n",
    "\n",
    "### Arithmetic\n",
    "\n",
    "Arithmetic operators are\n",
    "\n",
    "- addition(+)\n",
    "- subtraction(-)\n",
    "- multiplication(\\*)\n",
    "- division(/)\n",
    "- modulus(%)\n",
    "- exponentiation(\\*\\*)\n",
    "- floor division or integer division(//)\n"
   ]
  },
  {
   "cell_type": "code",
   "execution_count": 30,
   "metadata": {},
   "outputs": [
    {
     "name": "stdout",
     "output_type": "stream",
     "text": [
      "7\n",
      "3\n",
      "10\n",
      "2.5\n",
      "2\n",
      "1\n",
      "25\n",
      "9\n"
     ]
    }
   ],
   "source": [
    "num_1 = 5\n",
    "num_2 = 2\n",
    "\n",
    "print(num_1+num_2)\n",
    "print(num_1-num_2)\n",
    "print(num_1*num_2)\n",
    "print(num_1/num_2)\n",
    "print(num_1//num_2)\n",
    "\n",
    "# remainder of division\n",
    "print(num_1 % num_2)\n",
    "\n",
    "# power\n",
    "print(num_1**num_2)\n",
    "\n",
    "\n",
    "print(num_1+num_2**num_2)\n"
   ]
  },
  {
   "cell_type": "markdown",
   "metadata": {},
   "source": [
    "### Comparison\n",
    "\n",
    "- **==** : are two variables equal / identical\n",
    "- **>** and **<** : less than / greater than\n",
    "- **>=** and **<=** : less than or equal to / greater than or equal to\n",
    "- **!=** : not equal\n"
   ]
  },
  {
   "cell_type": "code",
   "execution_count": 37,
   "metadata": {},
   "outputs": [
    {
     "name": "stdout",
     "output_type": "stream",
     "text": [
      "True False False True\n",
      "True False True\n",
      "False True\n",
      "False\n"
     ]
    }
   ],
   "source": [
    "a = 13\n",
    "b = 11\n",
    "print(a == a, a == b, a < b, a > b)\n",
    "print(a <= a, a <= b, a >= a)\n",
    "print(a != a, a != b)\n",
    "\n",
    "print(a % 2 == 0)\n"
   ]
  },
  {
   "cell_type": "markdown",
   "metadata": {},
   "source": [
    "> **Side Quest** : Armed with your knowledge about operators, can you guess a way to determine whether a given number is even or odd.\n",
    "\n",
    "### Short hand operators\n",
    "\n",
    "These are basically shortcuts for doing some common arithmetic operations  \n",
    "Suppose you have a variable 'num_1' with a value 10 and you need to add 5 to the same variable, what would you do?\n"
   ]
  },
  {
   "cell_type": "code",
   "execution_count": 57,
   "metadata": {},
   "outputs": [
    {
     "name": "stdout",
     "output_type": "stream",
     "text": [
      "20\n",
      "22\n",
      "25\n"
     ]
    }
   ],
   "source": [
    "num_1 = 10\n",
    "num_2 = 3\n",
    "num_1 = num_1 + 5\n",
    "\n",
    "# using shorthand addition\n",
    "num_1 += 5\n",
    "print(num_1)\n",
    "\n",
    "num_1 += 2\n",
    "print(num_1)\n",
    "\n",
    "num_1 += num_2  # num_1 = num_1 + num_2\n",
    "print(num_1)\n"
   ]
  },
  {
   "cell_type": "markdown",
   "metadata": {},
   "source": [
    "Both statements are one and the same.\n",
    "\n",
    "You can use the same syntax for all arithmetic operations and bitwise operations.\n"
   ]
  },
  {
   "cell_type": "code",
   "execution_count": 84,
   "metadata": {},
   "outputs": [
    {
     "name": "stdout",
     "output_type": "stream",
     "text": [
      "True\n",
      "product of 11 and 12 is 132\n",
      "\n",
      "lorem ipsum dolor sit amit\n",
      "hwllo everybody \n",
      "this is a sample text\n",
      "nothing important\n",
      "\n"
     ]
    }
   ],
   "source": [
    "a = 11\n",
    "b = 12\n",
    "# and operator\n",
    "print(not(a > b or num_1 < num_2))\n",
    "\n",
    "\n",
    "str1 = \"hello\"\n",
    "str2 = \" world\"\n",
    "\n",
    "print(\"product of {} and {} is {}\".format(a, b, a*b))\n",
    "\n",
    "str1 = 'heloow'\n",
    "str2 = '''\n",
    "lorem ipsum dolor sit amit\n",
    "hwllo everybody \n",
    "this is a sample text\n",
    "nothing important\n",
    "'''\n",
    "print(str2)\n"
   ]
  },
  {
   "cell_type": "code",
   "execution_count": 136,
   "metadata": {},
   "outputs": [
    {
     "name": "stdout",
     "output_type": "stream",
     "text": [
      "dinoo\n",
      "['dinoo', 'haai', 'kumar', 'ramesh', 'ramu', 'santhosh', 'suresh']\n"
     ]
    },
    {
     "data": {
      "text/plain": [
       "8"
      ]
     },
     "execution_count": 136,
     "metadata": {},
     "output_type": "execute_result"
    }
   ],
   "source": [
    "# list\n",
    "a = [\"suresh\", \"ramesh\", \"santhosh\", \"ramu\", \"kumar\", \"haai\", \"dinoo\"]\n",
    "print(a[len(a)-1])\n",
    "    \n",
    "# a[1] = \"all\"\n",
    "a.sort()\n",
    "print(a)\n",
    "\n",
    "b = [2, 4, 5, 1, 6, 7, 2, 4]\n",
    "len(b)"
   ]
  },
  {
   "cell_type": "code",
   "execution_count": 152,
   "metadata": {},
   "outputs": [
    {
     "data": {
      "text/plain": [
       "'n is noic'"
      ]
     },
     "execution_count": 152,
     "metadata": {},
     "output_type": "execute_result"
    }
   ],
   "source": [
    "c = \"python is noice\"\n",
    "c[5:-1:1]"
   ]
  },
  {
   "cell_type": "code",
   "execution_count": 169,
   "metadata": {},
   "outputs": [
    {
     "name": "stdout",
     "output_type": "stream",
     "text": [
      "hooray\n",
      "sed\n",
      "a\n"
     ]
    }
   ],
   "source": [
    "# control statements\n",
    "a = 4\n",
    "b = 7\n",
    "if a < b:\n",
    "    print(\"hooray\")\n",
    "else:\n",
    "    print(\"oh nooo\")\n",
    "    print(\"jelly\")\n",
    "    print(\"yellow\")\n",
    "if a<b and 4==5:\n",
    "    print(\"a\")\n",
    "elif a>b:\n",
    "    print(\"b\")\n",
    "else :\n",
    "    print(\"sed\")\n",
    "\n",
    "grade =\"\"\n",
    "mark = 91\n",
    "if mark>90: grade = \"a\"\n",
    "elif mark>80 :grade = \"a+\"\n",
    "else:grade = \"a-\"\n",
    "print(grade)"
   ]
  },
  {
   "cell_type": "code",
   "execution_count": 179,
   "metadata": {},
   "outputs": [],
   "source": [
    "i = 0\n",
    "c=\"random\"\n",
    "while i<len(c):\n",
    "    if c[i]=='z': print(\"{} in {}\".format(c[i],i))\n",
    "    i+=1\n"
   ]
  }
 ],
 "metadata": {
  "interpreter": {
   "hash": "9ebe18009ea7c6dbf6ff2be607c73f743b1f5dc23998d0909bd294793914510b"
  },
  "kernelspec": {
   "display_name": "Python 3 (ipykernel)",
   "language": "python",
   "name": "python3"
  },
  "language_info": {
   "codemirror_mode": {
    "name": "ipython",
    "version": 3
   },
   "file_extension": ".py",
   "mimetype": "text/x-python",
   "name": "python",
   "nbconvert_exporter": "python",
   "pygments_lexer": "ipython3",
   "version": "3.9.7"
  }
 },
 "nbformat": 4,
 "nbformat_minor": 2
}
